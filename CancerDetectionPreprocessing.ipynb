{
  "nbformat": 4,
  "nbformat_minor": 0,
  "metadata": {
    "colab": {
      "name": "CancerDetectionPreprocessing.ipynb",
      "provenance": []
    },
    "kernelspec": {
      "name": "python3",
      "display_name": "Python 3"
    },
    "language_info": {
      "name": "python"
    }
  },
  "cells": [
    {
      "cell_type": "code",
      "metadata": {
        "colab": {
          "base_uri": "https://localhost:8080/"
        },
        "id": "QapBFZliQhp_",
        "outputId": "486f2330-d10a-4779-d4fd-c3706acf1cbd"
      },
      "source": [
        "!apt-get install openslide-tools\n",
        "!pip install openslide-python"
      ],
      "execution_count": 1,
      "outputs": [
        {
          "output_type": "stream",
          "text": [
            "Reading package lists... Done\n",
            "Building dependency tree       \n",
            "Reading state information... Done\n",
            "The following package was automatically installed and is no longer required:\n",
            "  libnvidia-common-460\n",
            "Use 'apt autoremove' to remove it.\n",
            "The following additional packages will be installed:\n",
            "  libopenslide0\n",
            "Suggested packages:\n",
            "  libtiff-tools\n",
            "The following NEW packages will be installed:\n",
            "  libopenslide0 openslide-tools\n",
            "0 upgraded, 2 newly installed, 0 to remove and 34 not upgraded.\n",
            "Need to get 92.5 kB of archives.\n",
            "After this operation, 268 kB of additional disk space will be used.\n",
            "Get:1 http://archive.ubuntu.com/ubuntu bionic/universe amd64 libopenslide0 amd64 3.4.1+dfsg-2 [79.8 kB]\n",
            "Get:2 http://archive.ubuntu.com/ubuntu bionic/universe amd64 openslide-tools amd64 3.4.1+dfsg-2 [12.7 kB]\n",
            "Fetched 92.5 kB in 1s (144 kB/s)\n",
            "Selecting previously unselected package libopenslide0.\n",
            "(Reading database ... 160690 files and directories currently installed.)\n",
            "Preparing to unpack .../libopenslide0_3.4.1+dfsg-2_amd64.deb ...\n",
            "Unpacking libopenslide0 (3.4.1+dfsg-2) ...\n",
            "Selecting previously unselected package openslide-tools.\n",
            "Preparing to unpack .../openslide-tools_3.4.1+dfsg-2_amd64.deb ...\n",
            "Unpacking openslide-tools (3.4.1+dfsg-2) ...\n",
            "Setting up libopenslide0 (3.4.1+dfsg-2) ...\n",
            "Setting up openslide-tools (3.4.1+dfsg-2) ...\n",
            "Processing triggers for libc-bin (2.27-3ubuntu1.2) ...\n",
            "/sbin/ldconfig.real: /usr/local/lib/python3.7/dist-packages/ideep4py/lib/libmkldnn.so.0 is not a symbolic link\n",
            "\n",
            "Processing triggers for man-db (2.8.3-2ubuntu0.1) ...\n",
            "Collecting openslide-python\n",
            "\u001b[?25l  Downloading https://files.pythonhosted.org/packages/03/da/12dc0e7566ace61a5a65244220458dcb656b09cbf18ca50f3098875d97e4/openslide-python-1.1.2.tar.gz (316kB)\n",
            "\u001b[K     |████████████████████████████████| 317kB 5.3MB/s \n",
            "\u001b[?25hRequirement already satisfied: Pillow in /usr/local/lib/python3.7/dist-packages (from openslide-python) (7.1.2)\n",
            "Building wheels for collected packages: openslide-python\n",
            "  Building wheel for openslide-python (setup.py) ... \u001b[?25l\u001b[?25hdone\n",
            "  Created wheel for openslide-python: filename=openslide_python-1.1.2-cp37-cp37m-linux_x86_64.whl size=27653 sha256=631b05682cc8d284044a21f265552a79e605250ee6627154019920dd84b451dc\n",
            "  Stored in directory: /root/.cache/pip/wheels/6b/55/74/ba9d3dcc2c5c0f1282e08bae70df0ed57b496fb6b5c8f1adc9\n",
            "Successfully built openslide-python\n",
            "Installing collected packages: openslide-python\n",
            "Successfully installed openslide-python-1.1.2\n"
          ],
          "name": "stdout"
        }
      ]
    },
    {
      "cell_type": "code",
      "metadata": {
        "id": "o7XUSmAyRcrR"
      },
      "source": [
        "%matplotlib inline\n",
        "import matplotlib.pyplot as plt\n",
        "import numpy as np\n",
        "from openslide import open_slide, __library_version__ as openslide_version\n",
        "import os\n",
        "from PIL import Image\n",
        "from skimage.color import rgb2gray"
      ],
      "execution_count": 2,
      "outputs": []
    },
    {
      "cell_type": "code",
      "metadata": {
        "colab": {
          "base_uri": "https://localhost:8080/"
        },
        "id": "whkQKXz4Rp13",
        "outputId": "4768e4d1-155e-4b58-d587-118f09559b1d"
      },
      "source": [
        "from google.colab import drive\n",
        "drive.mount('/content/drive/')"
      ],
      "execution_count": 3,
      "outputs": [
        {
          "output_type": "stream",
          "text": [
            "Mounted at /content/drive/\n"
          ],
          "name": "stdout"
        }
      ]
    },
    {
      "cell_type": "code",
      "metadata": {
        "id": "y_ZoSWTyRx5i"
      },
      "source": [
        "path = '/content/drive/MyDrive/ADL/Project/Dataset'"
      ],
      "execution_count": 4,
      "outputs": []
    },
    {
      "cell_type": "code",
      "metadata": {
        "colab": {
          "base_uri": "https://localhost:8080/"
        },
        "id": "KLTYrk96T5Ss",
        "outputId": "0a3a1900-9739-4c11-ab0e-9c232bcb755b"
      },
      "source": [
        "os.listdir(path)"
      ],
      "execution_count": 5,
      "outputs": [
        {
          "output_type": "execute_result",
          "data": {
            "text/plain": [
              "['tumor', 'tumor_mask', 'tumor_xml']"
            ]
          },
          "metadata": {
            "tags": []
          },
          "execution_count": 5
        }
      ]
    },
    {
      "cell_type": "code",
      "metadata": {
        "id": "tXYw9-5TT9Xi"
      },
      "source": [
        "tumor_path = os.path.join(path, 'tumor')\n",
        "mask_path = os.path.join(path, 'tumor_mask')"
      ],
      "execution_count": 6,
      "outputs": []
    },
    {
      "cell_type": "code",
      "metadata": {
        "id": "2oRqLOdDVJ_I"
      },
      "source": [
        "tumors = []\n",
        "for filename in os.listdir(tumor_path):\n",
        "  tumors.append(os.path.join(tumor_path,filename))\n",
        "tumors.sort()\n",
        "masks = []\n",
        "for filename in os.listdir(mask_path):\n",
        "  masks.append(os.path.join(mask_path,filename))\n",
        "masks.sort()"
      ],
      "execution_count": 7,
      "outputs": []
    },
    {
      "cell_type": "code",
      "metadata": {
        "id": "4fzgNB7cVrLO"
      },
      "source": [
        "def read_slide(slide, x, y, level, width, height, as_float=False):\n",
        "    im = slide.read_region((x,y), level, (width, height))\n",
        "    im = im.convert('RGB') # drop the alpha channel\n",
        "    if as_float:\n",
        "        im = np.asarray(im, dtype=np.float32)\n",
        "    else:\n",
        "        im = np.asarray(im)\n",
        "    assert im.shape == (height, width, 3)\n",
        "    return im"
      ],
      "execution_count": 8,
      "outputs": []
    },
    {
      "cell_type": "code",
      "metadata": {
        "colab": {
          "base_uri": "https://localhost:8080/"
        },
        "id": "_75COKbNino0",
        "outputId": "c78eb481-43a1-44a5-957f-3c39a2c4a983"
      },
      "source": [
        "def get_blobs(blob_size = 100, level = 7, gray_threshold):\n",
        "  blob = 100\n",
        "  slides = []\n",
        "  cancerous = []\n",
        "  for tumor, mask in zip(tumors,masks):\n",
        "    tumor_img = open_slide(tumor)\n",
        "    mask_img = open_slide(mask)\n",
        "    step_width = tumor_img.level_dimensions[7][0] // blob\n",
        "    step_height = tumor_img.level_dimensions[7][1] // blob\n",
        "    downsample = tumor_img.level_downsamples[7]\n",
        "\n",
        "    for i in range(step_width):\n",
        "      for j in range(step_height):\n",
        "        x = int(blob * i * downsample)\n",
        "        y = int(blob * j * downsample)\n",
        "\n",
        "        tumor_img_blob = read_slide(tumor_img, x, y, level = 7, width = blob, height = blob)\n",
        "        mask_img_blob = read_slide(mask_img, x, y, level = 7, width = blob, height = blob)\n",
        "\n",
        "        slides.append(tumor_img_blob)\n",
        "        if np.sum(mask_img_blob[:,:,0]) > 0:\n",
        "          cancerous.append(1)\n",
        "        else:\n",
        "          cancerous.append(0)\n",
        "  return slides, cancerous"
      ],
      "execution_count": 25,
      "outputs": [
        {
          "output_type": "stream",
          "text": [
            "7 17 (764, 1728) 128.0\n",
            "119\n",
            "7 17 (764, 1716) 128.0\n",
            "119\n",
            "7 17 (764, 1716) 128.0\n",
            "119\n",
            "7 16 (764, 1684) 128.0\n",
            "112\n",
            "7 17 (764, 1728) 128.0\n",
            "119\n",
            "7 17 (764, 1716) 128.0\n",
            "119\n",
            "7 17 (764, 1728) 128.0\n",
            "119\n",
            "7 17 (764, 1728) 128.0\n",
            "119\n",
            "7 17 (764, 1728) 128.0\n",
            "119\n",
            "7 17 (764, 1724) 128.0\n",
            "119\n",
            "7 17 (760, 1728) 128.0\n",
            "119\n",
            "7 17 (764, 1724) 128.0\n",
            "119\n",
            "7 6 (704, 616) 128.0\n",
            "42\n",
            "7 8 (736, 868) 128.0\n",
            "56\n",
            "7 7 (704, 784) 128.0\n",
            "49\n",
            "5 6 (512, 672) 128.0\n",
            "30\n",
            "4 4 (480, 420) 128.0\n",
            "16\n",
            "9 7 (928, 784) 128.0\n",
            "63\n",
            "10 5 (1024, 560) 128.0\n",
            "50\n",
            "10 5 (1088, 560) 128.0\n",
            "50\n",
            "7 5 (736, 560) 128.0\n",
            "35\n"
          ],
          "name": "stdout"
        }
      ]
    },
    {
      "cell_type": "code",
      "metadata": {
        "colab": {
          "base_uri": "https://localhost:8080/"
        },
        "id": "sGcwBums6q7j",
        "outputId": "af50beeb-0954-4828-8b93-3c9fbf26e00b"
      },
      "source": [
        "len(cancerous), sum(cancerous)"
      ],
      "execution_count": 18,
      "outputs": [
        {
          "output_type": "execute_result",
          "data": {
            "text/plain": [
              "(1812, 121)"
            ]
          },
          "metadata": {
            "tags": []
          },
          "execution_count": 18
        }
      ]
    },
    {
      "cell_type": "code",
      "metadata": {
        "id": "x_9eF6vXAPdp"
      },
      "source": [
        ""
      ],
      "execution_count": null,
      "outputs": []
    }
  ]
}