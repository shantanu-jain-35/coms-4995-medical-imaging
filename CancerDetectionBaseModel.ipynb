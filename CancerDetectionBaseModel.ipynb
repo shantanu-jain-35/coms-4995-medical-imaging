{
  "nbformat": 4,
  "nbformat_minor": 0,
  "metadata": {
    "colab": {
      "name": "CancerDetectionBaseModel.ipynb",
      "provenance": []
    },
    "kernelspec": {
      "name": "python3",
      "display_name": "Python 3"
    },
    "language_info": {
      "name": "python"
    },
    "accelerator": "GPU"
  },
  "cells": [
    {
      "cell_type": "code",
      "metadata": {
        "id": "0J4to5HF0B5H"
      },
      "source": [
        "%matplotlib inline\n",
        "import matplotlib.pyplot as plt\n",
        "import numpy as np\n",
        "import os\n",
        "from PIL import Image\n",
        "from skimage.color import rgb2gray\n",
        "import pickle\n",
        "import math\n",
        "from sklearn.model_selection import train_test_split\n",
        "import tensorflow as tf\n",
        "from tensorflow import keras\n",
        "import gc\n",
        "import cv2\n",
        "from tensorflow.keras import layers, models"
      ],
      "execution_count": null,
      "outputs": []
    },
    {
      "cell_type": "code",
      "metadata": {
        "colab": {
          "base_uri": "https://localhost:8080/"
        },
        "id": "vpI-CQiV0OyB",
        "outputId": "7c05cb53-75a6-466b-a1a0-ce9afc1fb18b"
      },
      "source": [
        "from google.colab import drive\n",
        "drive.mount('/content/drive/')"
      ],
      "execution_count": null,
      "outputs": [
        {
          "output_type": "stream",
          "text": [
            "Drive already mounted at /content/drive/; to attempt to forcibly remount, call drive.mount(\"/content/drive/\", force_remount=True).\n"
          ],
          "name": "stdout"
        }
      ]
    },
    {
      "cell_type": "code",
      "metadata": {
        "id": "2ap_hUm30Upg"
      },
      "source": [
        "path = '/content/drive/MyDrive/ADL/Project/Dataset'"
      ],
      "execution_count": null,
      "outputs": []
    },
    {
      "cell_type": "code",
      "metadata": {
        "id": "khEJn1El0pv_"
      },
      "source": [
        "with open(os.path.join(path, 'train_dataset_level4_64.pkl'), 'rb') as f:\n",
        "    train_slides, train_labels = pickle.load(f)"
      ],
      "execution_count": null,
      "outputs": []
    },
    {
      "cell_type": "code",
      "metadata": {
        "id": "yzvgVoU7rkG7"
      },
      "source": [
        "X = [cv2.resize(x, dsize=(75, 75), interpolation=cv2.INTER_CUBIC) for x in train_slides]"
      ],
      "execution_count": null,
      "outputs": []
    },
    {
      "cell_type": "code",
      "metadata": {
        "id": "BAM1uKnMnYKV"
      },
      "source": [
        "X = np.array(X)/255\n",
        "y = np.array(train_labels)"
      ],
      "execution_count": null,
      "outputs": []
    },
    {
      "cell_type": "code",
      "metadata": {
        "colab": {
          "base_uri": "https://localhost:8080/"
        },
        "id": "pUP-CGxHnjAg",
        "outputId": "85bcb0de-9364-4dd8-ee74-47873a39b232"
      },
      "source": [
        "del train_slides, train_labels\n",
        "gc.collect()"
      ],
      "execution_count": null,
      "outputs": [
        {
          "output_type": "execute_result",
          "data": {
            "text/plain": [
              "670"
            ]
          },
          "metadata": {
            "tags": []
          },
          "execution_count": 11
        }
      ]
    },
    {
      "cell_type": "code",
      "metadata": {
        "id": "u3muCjN55gjS"
      },
      "source": [
        "with open(os.path.join(path, 'test_dataset_level4_64.pkl'), 'rb') as f:\n",
        "    test_slides, y_test = pickle.load(f)"
      ],
      "execution_count": null,
      "outputs": []
    },
    {
      "cell_type": "code",
      "metadata": {
        "id": "GyRtplzV5qsq"
      },
      "source": [
        "X_test = [cv2.resize(x, dsize=(75, 75), interpolation=cv2.INTER_CUBIC) for x in test_slides]\n",
        "X_test = np.array(X_test)/255"
      ],
      "execution_count": null,
      "outputs": []
    },
    {
      "cell_type": "code",
      "metadata": {
        "id": "asKrk8c4T4kx"
      },
      "source": [
        "train_ds = tf.data.Dataset.from_tensor_slices((X_train, y_train))"
      ],
      "execution_count": null,
      "outputs": []
    },
    {
      "cell_type": "code",
      "metadata": {
        "id": "g5kfYCnoT_1d"
      },
      "source": [
        "val_ds = tf.data.Dataset.from_tensor_slices((X_val, y_val))"
      ],
      "execution_count": null,
      "outputs": []
    },
    {
      "cell_type": "code",
      "metadata": {
        "id": "Li9mDnhSXB4G"
      },
      "source": [
        "num_training_samples = len(train_ds)"
      ],
      "execution_count": null,
      "outputs": []
    },
    {
      "cell_type": "code",
      "metadata": {
        "id": "K1QfXPj2ULSk"
      },
      "source": [
        "def configure_dataset(dataset):\n",
        "  return dataset.cache().prefetch(buffer_size=tf.data.AUTOTUNE)\n",
        "\n",
        "train_ds = configure_dataset(train_ds)\n",
        "# val_ds = configure_dataset(val_ds)"
      ],
      "execution_count": null,
      "outputs": []
    },
    {
      "cell_type": "code",
      "metadata": {
        "id": "ICwDE3Y7XNtc"
      },
      "source": [
        "train_ds = train_ds.repeat().shuffle(num_training_samples)"
      ],
      "execution_count": null,
      "outputs": []
    },
    {
      "cell_type": "code",
      "metadata": {
        "id": "ZNqU2zbOo89r"
      },
      "source": [
        "base_model = tf.keras.applications.InceptionV3(input_shape=[75, 75, 3], include_top=False)"
      ],
      "execution_count": null,
      "outputs": []
    },
    {
      "cell_type": "code",
      "metadata": {
        "id": "rfHGNmUMtCca"
      },
      "source": [
        "base_model.trainable = False \n",
        "\n",
        "global_average_layer = layers.GlobalAveragePooling2D()\n",
        "prediction_layer = layers.Dense(1, activation='sigmoid')\n",
        "\n",
        "model = models.Sequential([\n",
        "  base_model,\n",
        "  global_average_layer,\n",
        "  prediction_layer\n",
        "])"
      ],
      "execution_count": null,
      "outputs": []
    },
    {
      "cell_type": "code",
      "metadata": {
        "id": "PbSGMtnq6bfx"
      },
      "source": [
        "model = models.Sequential()\n",
        "model.add(layers.Conv2D(16, (3, 3), activation='relu', input_shape=(100, 100, 3)))\n",
        "model.add(layers.MaxPooling2D())\n",
        "model.add(layers.Flatten())\n",
        "model.add(layers.Dense(1, activation='sigmoid'))"
      ],
      "execution_count": null,
      "outputs": []
    },
    {
      "cell_type": "code",
      "metadata": {
        "colab": {
          "base_uri": "https://localhost:8080/"
        },
        "id": "kAiTovoG9ci3",
        "outputId": "cbae46cc-c7cc-42a3-9355-76e1af6b5ae6"
      },
      "source": [
        "model.summary()"
      ],
      "execution_count": null,
      "outputs": [
        {
          "output_type": "stream",
          "text": [
            "Model: \"sequential\"\n",
            "_________________________________________________________________\n",
            "Layer (type)                 Output Shape              Param #   \n",
            "=================================================================\n",
            "inception_v3 (Functional)    (None, 1, 1, 2048)        21802784  \n",
            "_________________________________________________________________\n",
            "global_average_pooling2d (Gl (None, 2048)              0         \n",
            "_________________________________________________________________\n",
            "dense (Dense)                (None, 1)                 2049      \n",
            "=================================================================\n",
            "Total params: 21,804,833\n",
            "Trainable params: 2,049\n",
            "Non-trainable params: 21,802,784\n",
            "_________________________________________________________________\n"
          ],
          "name": "stdout"
        }
      ]
    },
    {
      "cell_type": "code",
      "metadata": {
        "id": "mp9WDf-L73U0"
      },
      "source": [
        "model.compile(optimizer='adam',\n",
        "              loss=tf.keras.losses.BinaryCrossentropy(from_logits=True),\n",
        "              metrics=['accuracy'])"
      ],
      "execution_count": null,
      "outputs": []
    },
    {
      "cell_type": "code",
      "metadata": {
        "colab": {
          "base_uri": "https://localhost:8080/"
        },
        "id": "MBNMi_l08Y9F",
        "outputId": "2bdf4287-82ac-46dc-ed91-ab0b05062eb0"
      },
      "source": [
        "# history = model.fit(train_ds, validation_data=val_ds, steps_per_epoch=math.ceil(num_training_samples/256))\n",
        "history = model.fit(X, y, validation_split=0.2, epochs=10)"
      ],
      "execution_count": null,
      "outputs": [
        {
          "output_type": "stream",
          "text": [
            "Epoch 1/10\n",
            "985/985 [==============================] - 62s 26ms/step - loss: 0.2229 - accuracy: 0.9301 - val_loss: 0.1604 - val_accuracy: 0.9582\n",
            "Epoch 2/10\n",
            "985/985 [==============================] - 22s 23ms/step - loss: 0.1775 - accuracy: 0.9400 - val_loss: 0.1610 - val_accuracy: 0.9550\n",
            "Epoch 3/10\n",
            "985/985 [==============================] - 22s 22ms/step - loss: 0.1663 - accuracy: 0.9441 - val_loss: 0.1580 - val_accuracy: 0.9577\n",
            "Epoch 4/10\n",
            "985/985 [==============================] - 22s 22ms/step - loss: 0.1660 - accuracy: 0.9429 - val_loss: 0.1513 - val_accuracy: 0.9615\n",
            "Epoch 5/10\n",
            "985/985 [==============================] - 22s 22ms/step - loss: 0.1616 - accuracy: 0.9435 - val_loss: 0.1522 - val_accuracy: 0.9618\n",
            "Epoch 6/10\n",
            "985/985 [==============================] - 22s 22ms/step - loss: 0.1624 - accuracy: 0.9444 - val_loss: 0.1603 - val_accuracy: 0.9552\n",
            "Epoch 7/10\n",
            "985/985 [==============================] - 22s 22ms/step - loss: 0.1605 - accuracy: 0.9439 - val_loss: 0.1691 - val_accuracy: 0.9509\n",
            "Epoch 8/10\n",
            "985/985 [==============================] - 22s 23ms/step - loss: 0.1484 - accuracy: 0.9490 - val_loss: 0.1850 - val_accuracy: 0.9403\n",
            "Epoch 9/10\n",
            "985/985 [==============================] - 22s 22ms/step - loss: 0.1478 - accuracy: 0.9501 - val_loss: 0.1575 - val_accuracy: 0.9581\n",
            "Epoch 10/10\n",
            "985/985 [==============================] - 23s 23ms/step - loss: 0.1519 - accuracy: 0.9492 - val_loss: 0.1684 - val_accuracy: 0.9502\n"
          ],
          "name": "stdout"
        }
      ]
    },
    {
      "cell_type": "code",
      "metadata": {
        "id": "EaLaelJ6NvWW"
      },
      "source": [
        "model.save('model.h5')"
      ],
      "execution_count": null,
      "outputs": []
    },
    {
      "cell_type": "code",
      "metadata": {
        "colab": {
          "base_uri": "https://localhost:8080/",
          "height": 186
        },
        "id": "eFGj_Z_28k2t",
        "outputId": "ab8dafca-d16e-4094-a05c-a6e322505fff"
      },
      "source": [
        "plt.plot(history.history['accuracy'])\n",
        "plt.plot(history.history['val_accuracy'])"
      ],
      "execution_count": null,
      "outputs": [
        {
          "output_type": "error",
          "ename": "NameError",
          "evalue": "ignored",
          "traceback": [
            "\u001b[0;31m---------------------------------------------------------------------------\u001b[0m",
            "\u001b[0;31mNameError\u001b[0m                                 Traceback (most recent call last)",
            "\u001b[0;32m<ipython-input-1-564fe7a78a80>\u001b[0m in \u001b[0;36m<module>\u001b[0;34m()\u001b[0m\n\u001b[0;32m----> 1\u001b[0;31m \u001b[0mplt\u001b[0m\u001b[0;34m.\u001b[0m\u001b[0mplot\u001b[0m\u001b[0;34m(\u001b[0m\u001b[0mhistory\u001b[0m\u001b[0;34m.\u001b[0m\u001b[0mhistory\u001b[0m\u001b[0;34m[\u001b[0m\u001b[0;34m'accuracy'\u001b[0m\u001b[0;34m]\u001b[0m\u001b[0;34m)\u001b[0m\u001b[0;34m\u001b[0m\u001b[0;34m\u001b[0m\u001b[0m\n\u001b[0m\u001b[1;32m      2\u001b[0m \u001b[0mplt\u001b[0m\u001b[0;34m.\u001b[0m\u001b[0mplot\u001b[0m\u001b[0;34m(\u001b[0m\u001b[0mhistory\u001b[0m\u001b[0;34m.\u001b[0m\u001b[0mhistory\u001b[0m\u001b[0;34m[\u001b[0m\u001b[0;34m'val_accuracy'\u001b[0m\u001b[0;34m]\u001b[0m\u001b[0;34m)\u001b[0m\u001b[0;34m\u001b[0m\u001b[0;34m\u001b[0m\u001b[0m\n",
            "\u001b[0;31mNameError\u001b[0m: name 'plt' is not defined"
          ]
        }
      ]
    },
    {
      "cell_type": "code",
      "metadata": {
        "id": "5NsAnulBOeL4"
      },
      "source": [
        "new_model = models.load_model('model.h5')"
      ],
      "execution_count": null,
      "outputs": []
    },
    {
      "cell_type": "code",
      "metadata": {
        "id": "UuXXFzwN9m0t"
      },
      "source": [
        "y_pred = new_model.predict(X_test)"
      ],
      "execution_count": null,
      "outputs": []
    },
    {
      "cell_type": "code",
      "metadata": {
        "colab": {
          "base_uri": "https://localhost:8080/"
        },
        "id": "NFA9wPc4AZAh",
        "outputId": "c9540ec0-ef8c-4560-a9d1-379b1d6218c8"
      },
      "source": [
        "len(y_pred)"
      ],
      "execution_count": null,
      "outputs": [
        {
          "output_type": "execute_result",
          "data": {
            "text/plain": [
              "15960"
            ]
          },
          "metadata": {
            "tags": []
          },
          "execution_count": 7
        }
      ]
    },
    {
      "cell_type": "code",
      "metadata": {
        "id": "fBvIXfstPaCM"
      },
      "source": [
        "temp = y_pred[(136*70):]"
      ],
      "execution_count": null,
      "outputs": []
    },
    {
      "cell_type": "code",
      "metadata": {
        "colab": {
          "base_uri": "https://localhost:8080/"
        },
        "id": "rHXp3F2HSN1n",
        "outputId": "fe00c1a0-4c49-4ee1-8303-6e98f1d87a3e"
      },
      "source": [
        "len(temp)"
      ],
      "execution_count": null,
      "outputs": [
        {
          "output_type": "execute_result",
          "data": {
            "text/plain": [
              "6440"
            ]
          },
          "metadata": {
            "tags": []
          },
          "execution_count": 19
        }
      ]
    },
    {
      "cell_type": "code",
      "metadata": {
        "colab": {
          "base_uri": "https://localhost:8080/",
          "height": 285
        },
        "id": "rMKi91JvSR1l",
        "outputId": "a3a900b4-63c1-46a1-fe48-981642887c3c"
      },
      "source": [
        "plt.imshow(np.reshape(temp, (92,70)))"
      ],
      "execution_count": null,
      "outputs": [
        {
          "output_type": "execute_result",
          "data": {
            "text/plain": [
              "<matplotlib.image.AxesImage at 0x7fdb098e3c50>"
            ]
          },
          "metadata": {
            "tags": []
          },
          "execution_count": 22
        },
        {
          "output_type": "display_data",
          "data": {
            "image/png": "[encoded data removed]",
            "text/plain": [
              "<Figure size 432x288 with 1 Axes>"
            ]
          },
          "metadata": {
            "tags": [],
            "needs_background": "light"
          }
        }
      ]
    },
    {
      "cell_type": "code",
      "metadata": {
        "id": "epprEKcBNHUU"
      },
      "source": [
        ""
      ],
      "execution_count": null,
      "outputs": []
    }
  ]
}